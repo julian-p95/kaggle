{
 "cells": [
  {
   "cell_type": "markdown",
   "metadata": {
    "papermill": {
     "duration": 0.026793,
     "end_time": "2022-11-08T12:50:40.159465",
     "exception": false,
     "start_time": "2022-11-08T12:50:40.132672",
     "status": "completed"
    },
    "tags": []
   },
   "source": [
    "# **Executive Summary for the Energy Stats**\n",
    "\n"
   ]
  },
  {
   "cell_type": "markdown",
   "metadata": {
    "papermill": {
     "duration": 0.024942,
     "end_time": "2022-11-08T12:50:40.209718",
     "exception": false,
     "start_time": "2022-11-08T12:50:40.184776",
     "status": "completed"
    },
    "tags": []
   },
   "source": [
    "Focus is on exporing, analyzing and visualizing insights of the G-7 Countries for their energy statistics.\n",
    "\n",
    "The steps followed for the exercise are as following:\n",
    "\n",
    "**1. Sourcing and loading** \n",
    "- Import relevant libraries\n",
    "- Load the data \n",
    "- Exploring the data\n",
    "\n",
    "**2. Cleaning, transforming, and visualizing**\n",
    "- Create charts"
   ]
  },
  {
   "cell_type": "markdown",
   "metadata": {
    "papermill": {
     "duration": 0.025435,
     "end_time": "2022-11-08T12:50:40.261522",
     "exception": false,
     "start_time": "2022-11-08T12:50:40.236087",
     "status": "completed"
    },
    "tags": []
   },
   "source": [
    "## **1.0 Introduction**"
   ]
  },
  {
   "cell_type": "markdown",
   "metadata": {
    "papermill": {
     "duration": 0.025056,
     "end_time": "2022-11-08T12:50:40.311870",
     "exception": false,
     "start_time": "2022-11-08T12:50:40.286814",
     "status": "completed"
    },
    "tags": []
   },
   "source": [
    "Since this is a generic data for the world, focus of this exercise is to find out the insights for the G7 countries for their energy statistics over the years.\n",
    "Following are the goals of this exercise:\n",
    "* Identify the patterns\n",
    "* Create visual charts and graphs\n",
    "* Provide my own perspective on various insights"
   ]
  },
  {
   "cell_type": "code",
   "execution_count": 1,
   "metadata": {
    "_cell_guid": "b1076dfc-b9ad-4769-8c92-a6c4dae69d19",
    "_uuid": "8f2839f25d086af736a60e9eeb907d3b93b6e0e5",
    "execution": {
     "iopub.execute_input": "2022-11-08T12:50:40.366024Z",
     "iopub.status.busy": "2022-11-08T12:50:40.365360Z",
     "iopub.status.idle": "2022-11-08T12:50:41.250062Z",
     "shell.execute_reply": "2022-11-08T12:50:41.249235Z"
    },
    "papermill": {
     "duration": 0.913002,
     "end_time": "2022-11-08T12:50:41.250226",
     "exception": false,
     "start_time": "2022-11-08T12:50:40.337224",
     "status": "completed"
    },
    "tags": []
   },
   "outputs": [
    {
     "name": "stdout",
     "output_type": "stream",
     "text": [
      "['international-energy-statistics']\n"
     ]
    }
   ],
   "source": [
    "# Importing required packages in one place to keep it tidy and clean\n",
    "import numpy as np \n",
    "import pandas as pd \n",
    "import matplotlib.pyplot as plt\n",
    "import seaborn as sns\n",
    "%matplotlib inline\n",
    "\n",
    "import os\n",
    "print(os.listdir(\"../input\")) # Any results written in the current directory will be saved as output.\n",
    "\n",
    "import missingno as msno"
   ]
  },
  {
   "cell_type": "markdown",
   "metadata": {
    "papermill": {
     "duration": 0.025993,
     "end_time": "2022-11-08T12:50:41.303744",
     "exception": false,
     "start_time": "2022-11-08T12:50:41.277751",
     "status": "completed"
    },
    "tags": []
   },
   "source": [
    "## **2.0 Data Wrangling**"
   ]
  },
  {
   "cell_type": "markdown",
   "metadata": {
    "papermill": {
     "duration": 0.025338,
     "end_time": "2022-11-08T12:50:41.354912",
     "exception": false,
     "start_time": "2022-11-08T12:50:41.329574",
     "status": "completed"
    },
    "tags": []
   },
   "source": [
    "### **2.1 Sourcing and Loading of Data**"
   ]
  },
  {
   "cell_type": "code",
   "execution_count": 2,
   "metadata": {
    "_cell_guid": "79c7e3d0-c299-4dcb-8224-4455121ee9b0",
    "_uuid": "d629ff2d2480ee46fbb7e2d37f6b5fab8052498a",
    "execution": {
     "iopub.execute_input": "2022-11-08T12:50:41.410989Z",
     "iopub.status.busy": "2022-11-08T12:50:41.410018Z",
     "iopub.status.idle": "2022-11-08T12:50:44.577605Z",
     "shell.execute_reply": "2022-11-08T12:50:44.578097Z"
    },
    "papermill": {
     "duration": 3.197751,
     "end_time": "2022-11-08T12:50:44.578265",
     "exception": false,
     "start_time": "2022-11-08T12:50:41.380514",
     "status": "completed"
    },
    "tags": []
   },
   "outputs": [
    {
     "data": {
      "text/html": [
       "<div>\n",
       "<style scoped>\n",
       "    .dataframe tbody tr th:only-of-type {\n",
       "        vertical-align: middle;\n",
       "    }\n",
       "\n",
       "    .dataframe tbody tr th {\n",
       "        vertical-align: top;\n",
       "    }\n",
       "\n",
       "    .dataframe thead th {\n",
       "        text-align: right;\n",
       "    }\n",
       "</style>\n",
       "<table border=\"1\" class=\"dataframe\">\n",
       "  <thead>\n",
       "    <tr style=\"text-align: right;\">\n",
       "      <th></th>\n",
       "      <th>country_or_area</th>\n",
       "      <th>commodity_transaction</th>\n",
       "      <th>year</th>\n",
       "      <th>unit</th>\n",
       "      <th>quantity</th>\n",
       "      <th>quantity_footnotes</th>\n",
       "      <th>category</th>\n",
       "    </tr>\n",
       "  </thead>\n",
       "  <tbody>\n",
       "    <tr>\n",
       "      <th>0</th>\n",
       "      <td>Austria</td>\n",
       "      <td>Additives and Oxygenates - Exports</td>\n",
       "      <td>1996</td>\n",
       "      <td>Metric tons,  thousand</td>\n",
       "      <td>5.0</td>\n",
       "      <td>NaN</td>\n",
       "      <td>additives_and_oxygenates</td>\n",
       "    </tr>\n",
       "    <tr>\n",
       "      <th>1</th>\n",
       "      <td>Austria</td>\n",
       "      <td>Additives and Oxygenates - Exports</td>\n",
       "      <td>1995</td>\n",
       "      <td>Metric tons,  thousand</td>\n",
       "      <td>17.0</td>\n",
       "      <td>NaN</td>\n",
       "      <td>additives_and_oxygenates</td>\n",
       "    </tr>\n",
       "    <tr>\n",
       "      <th>2</th>\n",
       "      <td>Belgium</td>\n",
       "      <td>Additives and Oxygenates - Exports</td>\n",
       "      <td>2014</td>\n",
       "      <td>Metric tons,  thousand</td>\n",
       "      <td>0.0</td>\n",
       "      <td>NaN</td>\n",
       "      <td>additives_and_oxygenates</td>\n",
       "    </tr>\n",
       "    <tr>\n",
       "      <th>3</th>\n",
       "      <td>Belgium</td>\n",
       "      <td>Additives and Oxygenates - Exports</td>\n",
       "      <td>2013</td>\n",
       "      <td>Metric tons,  thousand</td>\n",
       "      <td>0.0</td>\n",
       "      <td>NaN</td>\n",
       "      <td>additives_and_oxygenates</td>\n",
       "    </tr>\n",
       "    <tr>\n",
       "      <th>4</th>\n",
       "      <td>Belgium</td>\n",
       "      <td>Additives and Oxygenates - Exports</td>\n",
       "      <td>2012</td>\n",
       "      <td>Metric tons,  thousand</td>\n",
       "      <td>35.0</td>\n",
       "      <td>NaN</td>\n",
       "      <td>additives_and_oxygenates</td>\n",
       "    </tr>\n",
       "  </tbody>\n",
       "</table>\n",
       "</div>"
      ],
      "text/plain": [
       "  country_or_area               commodity_transaction  year  \\\n",
       "0         Austria  Additives and Oxygenates - Exports  1996   \n",
       "1         Austria  Additives and Oxygenates - Exports  1995   \n",
       "2         Belgium  Additives and Oxygenates - Exports  2014   \n",
       "3         Belgium  Additives and Oxygenates - Exports  2013   \n",
       "4         Belgium  Additives and Oxygenates - Exports  2012   \n",
       "\n",
       "                     unit  quantity  quantity_footnotes  \\\n",
       "0  Metric tons,  thousand       5.0                 NaN   \n",
       "1  Metric tons,  thousand      17.0                 NaN   \n",
       "2  Metric tons,  thousand       0.0                 NaN   \n",
       "3  Metric tons,  thousand       0.0                 NaN   \n",
       "4  Metric tons,  thousand      35.0                 NaN   \n",
       "\n",
       "                   category  \n",
       "0  additives_and_oxygenates  \n",
       "1  additives_and_oxygenates  \n",
       "2  additives_and_oxygenates  \n",
       "3  additives_and_oxygenates  \n",
       "4  additives_and_oxygenates  "
      ]
     },
     "execution_count": 2,
     "metadata": {},
     "output_type": "execute_result"
    }
   ],
   "source": [
    "# loading and reading data file for the International Energy Stats\n",
    "energy = pd.read_csv('../input/international-energy-statistics/all_energy_statistics.csv', parse_dates=True)\n",
    "energy.head()"
   ]
  },
  {
   "cell_type": "code",
   "execution_count": 3,
   "metadata": {
    "execution": {
     "iopub.execute_input": "2022-11-08T12:50:44.701905Z",
     "iopub.status.busy": "2022-11-08T12:50:44.700924Z",
     "iopub.status.idle": "2022-11-08T12:50:44.733154Z",
     "shell.execute_reply": "2022-11-08T12:50:44.732328Z"
    },
    "papermill": {
     "duration": 0.128163,
     "end_time": "2022-11-08T12:50:44.733344",
     "exception": false,
     "start_time": "2022-11-08T12:50:44.605181",
     "status": "completed"
    },
    "tags": []
   },
   "outputs": [
    {
     "name": "stdout",
     "output_type": "stream",
     "text": [
      "Number of rows and columns are: (1189482, 7)\n",
      "List of countries and Area are: ['Austria' 'Belgium' 'Czechia' 'Finland' 'France' 'Greece' 'Hungary'\n",
      " 'Italy' 'Korea, Republic of' 'Netherlands' 'Romania' 'Serbia' 'Slovakia'\n",
      " 'Ukraine' 'United Kingdom' 'United States' 'Brunei Darussalam' 'Bulgaria'\n",
      " 'Canada' 'Chile' 'Croatia' 'Iran (Islamic Rep. of)' 'Jordan' 'Lithuania'\n",
      " 'Mexico' 'Oman' 'Other Asia' 'Poland' 'Portugal' 'Spain' 'Sweden'\n",
      " 'Switzerland' 'T.F.Yug.Rep. Macedonia' 'Turkey' 'Uzbekistan' 'Argentina'\n",
      " 'Colombia' 'Germany' 'Norway' 'Australia' 'China, Macao SAR' 'Japan'\n",
      " 'Denmark' 'Ireland' 'Philippines' 'Bangladesh' 'Eritrea' 'Ethiopia'\n",
      " 'Lesotho' 'Nepal' 'Niger' 'Pakistan' 'Serbia and Montenegro' 'Tunisia'\n",
      " 'Botswana' 'Georgia' 'Republic of Moldova' 'Peru' 'South Africa'\n",
      " 'Iceland' 'Latvia' 'Luxembourg' 'Cuba' 'Kyrgyzstan' 'Singapore'\n",
      " 'Thailand' 'United Arab Emirates' 'Uruguay' 'Armenia' 'Fiji'\n",
      " \"Korea, Dem.Ppl's.Rep.\" 'Russian Federation' 'Swaziland' 'Zimbabwe'\n",
      " 'Afghanistan' 'Antigua and Barbuda' 'Azerbaijan' 'Bahamas' 'Belize'\n",
      " 'Bolivia (Plur. State of)' 'Brazil' 'Burkina Faso' 'Cameroon'\n",
      " 'Cayman Islands' 'Central African Rep.' 'China' 'Comoros' 'Congo'\n",
      " 'Costa Rica' \"Côte d'Ivoire\" 'Dem. Rep. of the Congo'\n",
      " 'Dominican Republic' 'Ecuador' 'Egypt' 'El Salvador' 'Estonia'\n",
      " 'Ethiopia, incl. Eritrea' 'Faeroe Islands' 'French Guiana'\n",
      " 'Germany, Fed. R. (former)' 'Greenland' 'Guatemala' 'Guinea' 'Guyana'\n",
      " 'Honduras' 'Indonesia' 'Israel' 'Jamaica' 'Jersey' 'Kazakhstan' 'Kenya'\n",
      " 'Kuwait' \"Lao People's Dem. Rep.\" 'Liberia' 'Libya' 'Malawi' 'Malaysia'\n",
      " 'Maldives' 'Mauritania' 'Mayotte' 'Morocco' 'Myanmar' 'Namibia'\n",
      " 'New Caledonia' 'New Zealand' 'Nicaragua' 'Niue' 'Panama'\n",
      " 'Papua New Guinea' 'Paraguay' 'Sao Tome and Principe' 'Senegal'\n",
      " 'Seychelles' 'Slovenia' 'Solomon Islands' 'Sri Lanka' 'Sudan (former)'\n",
      " 'Suriname' 'Togo' 'Tonga' 'Trinidad and Tobago' 'United Rep. of Tanzania'\n",
      " 'Venezuela (Bolivar. Rep.)' 'Yugoslavia, SFR (former)' 'Zambia' 'Algeria'\n",
      " 'Curaçao' 'Gabon' 'Malta' 'Neth. Antilles (former)' 'Sierra Leone'\n",
      " 'USSR (former)' 'Barbados' 'Benin' 'Chad' 'Djibouti' 'French Polynesia'\n",
      " 'Ghana' 'Grenada' 'Guadeloupe' 'Haiti' 'Iraq' 'Kiribati' 'Madagascar'\n",
      " 'Mali' 'Martinique' 'Pacific Islands (former)' 'Palau'\n",
      " 'St. Helena and Depend.' 'St. Vincent-Grenadines' 'Syrian Arab Republic'\n",
      " 'Uganda' 'Yemen' 'Yemen, Dem. (former)' 'Burundi' 'India' 'Mauritius'\n",
      " 'Mozambique' 'Nigeria' 'Réunion' 'Rwanda' 'Samoa' 'Somalia'\n",
      " 'St. Kitts-Nevis' 'Viet Nam' 'Belarus' 'Cyprus' 'Cabo Verde' 'Albania'\n",
      " 'Bahrain' 'Bosnia and Herzegovina' 'China, Hong Kong SAR'\n",
      " 'Czechoslovakia (former)' 'Angola' 'Bermuda' 'Bhutan' 'Equatorial Guinea'\n",
      " 'Lebanon' 'Saudi Arabia' 'St. Lucia' 'St. Pierre-Miquelon'\n",
      " 'State of Palestine' 'Tajikistan' 'German Dem. R. (former)' 'Anguilla'\n",
      " 'Mongolia' 'Montenegro' 'Cambodia' 'South Sudan' 'Sudan' 'Andorra'\n",
      " 'Aruba' 'Bonaire, St Eustatius, Saba' 'British Virgin Islands' 'Dominica'\n",
      " 'Falkland Is. (Malvinas)' 'Gambia' 'Gibraltar' 'Qatar'\n",
      " 'Sint Maarten (Dutch part)' 'Turkmenistan' 'Turks and Caicos Islands'\n",
      " 'Vanuatu' 'Guinea-Bissau' 'Micronesia (Fed. States of)' 'Timor-Leste'\n",
      " 'Yemen Arab Rep. (former)' 'American Samoa' 'Liechtenstein' 'Puerto Rico'\n",
      " 'Cook Islands' 'Guam' 'Guernsey' 'Isle of Man' 'Marshall Islands'\n",
      " 'Montserrat' 'Nauru' 'Northern Mariana Islands' 'Tuvalu'\n",
      " 'United States Virgin Is.' 'Wallis and Futuna Is.'\n",
      " 'Commonwealth of Independent States (CIS)' 'Antarctic Fisheries']\n"
     ]
    }
   ],
   "source": [
    "# Find more information about the shape, features and unique values\n",
    "print(\"Number of rows and columns are:\", energy.shape)\n",
    "print(\"List of countries and Area are: {}\".format(energy.country_or_area.unique()))"
   ]
  },
  {
   "cell_type": "code",
   "execution_count": 4,
   "metadata": {
    "execution": {
     "iopub.execute_input": "2022-11-08T12:50:44.795619Z",
     "iopub.status.busy": "2022-11-08T12:50:44.792761Z",
     "iopub.status.idle": "2022-11-08T12:50:45.041463Z",
     "shell.execute_reply": "2022-11-08T12:50:45.040492Z"
    },
    "papermill": {
     "duration": 0.279945,
     "end_time": "2022-11-08T12:50:45.041632",
     "exception": false,
     "start_time": "2022-11-08T12:50:44.761687",
     "status": "completed"
    },
    "tags": []
   },
   "outputs": [
    {
     "name": "stdout",
     "output_type": "stream",
     "text": [
      "<class 'pandas.core.frame.DataFrame'>\n",
      "RangeIndex: 1189482 entries, 0 to 1189481\n",
      "Data columns (total 7 columns):\n",
      " #   Column                 Non-Null Count    Dtype  \n",
      "---  ------                 --------------    -----  \n",
      " 0   country_or_area        1189482 non-null  object \n",
      " 1   commodity_transaction  1189482 non-null  object \n",
      " 2   year                   1189482 non-null  int64  \n",
      " 3   unit                   1189482 non-null  object \n",
      " 4   quantity               1189482 non-null  float64\n",
      " 5   quantity_footnotes     163946 non-null   float64\n",
      " 6   category               1189482 non-null  object \n",
      "dtypes: float64(2), int64(1), object(4)\n",
      "memory usage: 63.5+ MB\n"
     ]
    }
   ],
   "source": [
    "# Find more about the data from the imported file\n",
    "energy.info()"
   ]
  },
  {
   "cell_type": "markdown",
   "metadata": {
    "papermill": {
     "duration": 0.028526,
     "end_time": "2022-11-08T12:50:45.099731",
     "exception": false,
     "start_time": "2022-11-08T12:50:45.071205",
     "status": "completed"
    },
    "tags": []
   },
   "source": [
    "Based on the above data, it seems that there is information missing for the column 'quantity_footnotes'. We also need to check if all the names under 'country_or_area' are unique or not. We need to check the same thing for other columns such as year, category etc."
   ]
  },
  {
   "cell_type": "code",
   "execution_count": 5,
   "metadata": {
    "execution": {
     "iopub.execute_input": "2022-11-08T12:50:45.222474Z",
     "iopub.status.busy": "2022-11-08T12:50:45.179376Z",
     "iopub.status.idle": "2022-11-08T12:50:45.256035Z",
     "shell.execute_reply": "2022-11-08T12:50:45.255440Z"
    },
    "papermill": {
     "duration": 0.12883,
     "end_time": "2022-11-08T12:50:45.256162",
     "exception": false,
     "start_time": "2022-11-08T12:50:45.127332",
     "status": "completed"
    },
    "tags": []
   },
   "outputs": [
    {
     "data": {
      "text/plain": [
       "243"
      ]
     },
     "execution_count": 5,
     "metadata": {},
     "output_type": "execute_result"
    }
   ],
   "source": [
    "#checking for the unique values for 'country_or_area' column\n",
    "len(energy['country_or_area'].unique())"
   ]
  },
  {
   "cell_type": "code",
   "execution_count": 6,
   "metadata": {
    "execution": {
     "iopub.execute_input": "2022-11-08T12:50:45.327062Z",
     "iopub.status.busy": "2022-11-08T12:50:45.326345Z",
     "iopub.status.idle": "2022-11-08T12:50:45.337878Z",
     "shell.execute_reply": "2022-11-08T12:50:45.337195Z"
    },
    "papermill": {
     "duration": 0.047666,
     "end_time": "2022-11-08T12:50:45.338005",
     "exception": false,
     "start_time": "2022-11-08T12:50:45.290339",
     "status": "completed"
    },
    "tags": []
   },
   "outputs": [
    {
     "data": {
      "text/plain": [
       "25"
      ]
     },
     "execution_count": 6,
     "metadata": {},
     "output_type": "execute_result"
    }
   ],
   "source": [
    "#checking for the unique values for 'year' column\n",
    "len(energy['year'].unique())"
   ]
  },
  {
   "cell_type": "code",
   "execution_count": 7,
   "metadata": {
    "execution": {
     "iopub.execute_input": "2022-11-08T12:50:45.463850Z",
     "iopub.status.busy": "2022-11-08T12:50:45.463120Z",
     "iopub.status.idle": "2022-11-08T12:50:45.503038Z",
     "shell.execute_reply": "2022-11-08T12:50:45.502391Z"
    },
    "papermill": {
     "duration": 0.137262,
     "end_time": "2022-11-08T12:50:45.503195",
     "exception": false,
     "start_time": "2022-11-08T12:50:45.365933",
     "status": "completed"
    },
    "tags": []
   },
   "outputs": [
    {
     "data": {
      "text/plain": [
       "71"
      ]
     },
     "execution_count": 7,
     "metadata": {},
     "output_type": "execute_result"
    }
   ],
   "source": [
    "#checking for the unique values for 'category' column\n",
    "len(energy['category'].unique())"
   ]
  },
  {
   "cell_type": "markdown",
   "metadata": {
    "papermill": {
     "duration": 0.02919,
     "end_time": "2022-11-08T12:50:45.562118",
     "exception": false,
     "start_time": "2022-11-08T12:50:45.532928",
     "status": "completed"
    },
    "tags": []
   },
   "source": [
    "### **2.2 Checking for the Missing Data**"
   ]
  },
  {
   "cell_type": "code",
   "execution_count": 8,
   "metadata": {
    "execution": {
     "iopub.execute_input": "2022-11-08T12:50:45.628543Z",
     "iopub.status.busy": "2022-11-08T12:50:45.627820Z",
     "iopub.status.idle": "2022-11-08T12:50:46.071125Z",
     "shell.execute_reply": "2022-11-08T12:50:46.070461Z"
    },
    "papermill": {
     "duration": 0.479508,
     "end_time": "2022-11-08T12:50:46.071255",
     "exception": false,
     "start_time": "2022-11-08T12:50:45.591747",
     "status": "completed"
    },
    "tags": []
   },
   "outputs": [
    {
     "data": {
      "text/html": [
       "<div>\n",
       "<style scoped>\n",
       "    .dataframe tbody tr th:only-of-type {\n",
       "        vertical-align: middle;\n",
       "    }\n",
       "\n",
       "    .dataframe tbody tr th {\n",
       "        vertical-align: top;\n",
       "    }\n",
       "\n",
       "    .dataframe thead th {\n",
       "        text-align: right;\n",
       "    }\n",
       "</style>\n",
       "<table border=\"1\" class=\"dataframe\">\n",
       "  <thead>\n",
       "    <tr style=\"text-align: right;\">\n",
       "      <th></th>\n",
       "      <th>Count</th>\n",
       "      <th>%</th>\n",
       "    </tr>\n",
       "  </thead>\n",
       "  <tbody>\n",
       "    <tr>\n",
       "      <th>quantity_footnotes</th>\n",
       "      <td>1025536</td>\n",
       "      <td>86.217026</td>\n",
       "    </tr>\n",
       "    <tr>\n",
       "      <th>country_or_area</th>\n",
       "      <td>0</td>\n",
       "      <td>0.000000</td>\n",
       "    </tr>\n",
       "    <tr>\n",
       "      <th>commodity_transaction</th>\n",
       "      <td>0</td>\n",
       "      <td>0.000000</td>\n",
       "    </tr>\n",
       "    <tr>\n",
       "      <th>year</th>\n",
       "      <td>0</td>\n",
       "      <td>0.000000</td>\n",
       "    </tr>\n",
       "    <tr>\n",
       "      <th>unit</th>\n",
       "      <td>0</td>\n",
       "      <td>0.000000</td>\n",
       "    </tr>\n",
       "    <tr>\n",
       "      <th>quantity</th>\n",
       "      <td>0</td>\n",
       "      <td>0.000000</td>\n",
       "    </tr>\n",
       "    <tr>\n",
       "      <th>category</th>\n",
       "      <td>0</td>\n",
       "      <td>0.000000</td>\n",
       "    </tr>\n",
       "  </tbody>\n",
       "</table>\n",
       "</div>"
      ],
      "text/plain": [
       "                         Count          %\n",
       "quantity_footnotes     1025536  86.217026\n",
       "country_or_area              0   0.000000\n",
       "commodity_transaction        0   0.000000\n",
       "year                         0   0.000000\n",
       "unit                         0   0.000000\n",
       "quantity                     0   0.000000\n",
       "category                     0   0.000000"
      ]
     },
     "execution_count": 8,
     "metadata": {},
     "output_type": "execute_result"
    }
   ],
   "source": [
    "# Now we are going to focus on finding the missing values\n",
    "missing = pd.concat([energy.isnull().sum(), 100 * energy.isnull().mean()], axis=1)\n",
    "missing.columns=['Count', '%']\n",
    "missing.sort_values(by='Count', ascending=False)"
   ]
  },
  {
   "cell_type": "code",
   "execution_count": 9,
   "metadata": {
    "execution": {
     "iopub.execute_input": "2022-11-08T12:50:46.137814Z",
     "iopub.status.busy": "2022-11-08T12:50:46.137094Z",
     "iopub.status.idle": "2022-11-08T12:50:49.473060Z",
     "shell.execute_reply": "2022-11-08T12:50:49.472514Z"
    },
    "papermill": {
     "duration": 3.371522,
     "end_time": "2022-11-08T12:50:49.473176",
     "exception": false,
     "start_time": "2022-11-08T12:50:46.101654",
     "status": "completed"
    },
    "tags": []
   },
   "outputs": [
    {
     "data": {
      "image/png": "[encoded data removed]",
      "text/plain": [
       "<Figure size 1800x720 with 2 Axes>"
      ]
     },
     "metadata": {
      "needs_background": "light"
     },
     "output_type": "display_data"
    }
   ],
   "source": [
    "# using missingno package to check for the missingness\n",
    "msno.matrix(energy)\n",
    "plt.show()"
   ]
  },
  {
   "cell_type": "code",
   "execution_count": 10,
   "metadata": {
    "execution": {
     "iopub.execute_input": "2022-11-08T12:50:49.543144Z",
     "iopub.status.busy": "2022-11-08T12:50:49.542522Z",
     "iopub.status.idle": "2022-11-08T12:50:49.554619Z",
     "shell.execute_reply": "2022-11-08T12:50:49.554031Z"
    },
    "papermill": {
     "duration": 0.047327,
     "end_time": "2022-11-08T12:50:49.554746",
     "exception": false,
     "start_time": "2022-11-08T12:50:49.507419",
     "status": "completed"
    },
    "tags": []
   },
   "outputs": [
    {
     "data": {
      "text/plain": [
       "array([nan,  1.])"
      ]
     },
     "execution_count": 10,
     "metadata": {},
     "output_type": "execute_result"
    }
   ],
   "source": [
    "# checking the quality of footnotes to see if we need those or not\n",
    "energy['quantity_footnotes'].unique()"
   ]
  },
  {
   "cell_type": "code",
   "execution_count": 11,
   "metadata": {
    "execution": {
     "iopub.execute_input": "2022-11-08T12:50:49.619661Z",
     "iopub.status.busy": "2022-11-08T12:50:49.619041Z",
     "iopub.status.idle": "2022-11-08T12:50:49.689203Z",
     "shell.execute_reply": "2022-11-08T12:50:49.688682Z"
    },
    "papermill": {
     "duration": 0.103808,
     "end_time": "2022-11-08T12:50:49.689351",
     "exception": false,
     "start_time": "2022-11-08T12:50:49.585543",
     "status": "completed"
    },
    "tags": []
   },
   "outputs": [
    {
     "data": {
      "text/plain": [
       "Index(['country_or_area', 'commodity_transaction', 'year', 'unit', 'quantity',\n",
       "       'category'],\n",
       "      dtype='object')"
      ]
     },
     "execution_count": 11,
     "metadata": {},
     "output_type": "execute_result"
    }
   ],
   "source": [
    "# Since quantity_footnotes is missing lots of value, we are going to drop this column and also it is not adding any value to our analysis\n",
    "df1 = energy.drop(['quantity_footnotes'], axis=1)\n",
    "df1.columns\n"
   ]
  },
  {
   "cell_type": "markdown",
   "metadata": {
    "papermill": {
     "duration": 0.031171,
     "end_time": "2022-11-08T12:50:49.752285",
     "exception": false,
     "start_time": "2022-11-08T12:50:49.721114",
     "status": "completed"
    },
    "tags": []
   },
   "source": [
    "### **2.3 Cleaning and Extraction of Data**"
   ]
  },
  {
   "cell_type": "code",
   "execution_count": 12,
   "metadata": {
    "execution": {
     "iopub.execute_input": "2022-11-08T12:50:49.870093Z",
     "iopub.status.busy": "2022-11-08T12:50:49.869365Z",
     "iopub.status.idle": "2022-11-08T12:50:51.838107Z",
     "shell.execute_reply": "2022-11-08T12:50:51.838668Z"
    },
    "papermill": {
     "duration": 2.05538,
     "end_time": "2022-11-08T12:50:51.838822",
     "exception": false,
     "start_time": "2022-11-08T12:50:49.783442",
     "status": "completed"
    },
    "tags": []
   },
   "outputs": [
    {
     "data": {
      "text/html": [
       "<div>\n",
       "<style scoped>\n",
       "    .dataframe tbody tr th:only-of-type {\n",
       "        vertical-align: middle;\n",
       "    }\n",
       "\n",
       "    .dataframe tbody tr th {\n",
       "        vertical-align: top;\n",
       "    }\n",
       "\n",
       "    .dataframe thead th {\n",
       "        text-align: right;\n",
       "    }\n",
       "</style>\n",
       "<table border=\"1\" class=\"dataframe\">\n",
       "  <thead>\n",
       "    <tr style=\"text-align: right;\">\n",
       "      <th></th>\n",
       "      <th>country_or_area</th>\n",
       "      <th>commodity_transaction</th>\n",
       "      <th>year</th>\n",
       "      <th>unit</th>\n",
       "      <th>quantity</th>\n",
       "      <th>category</th>\n",
       "    </tr>\n",
       "  </thead>\n",
       "  <tbody>\n",
       "    <tr>\n",
       "      <th>0</th>\n",
       "      <td>austria</td>\n",
       "      <td>additives and oxygenates - exports</td>\n",
       "      <td>1996</td>\n",
       "      <td>metric tons,  thousand</td>\n",
       "      <td>5.0</td>\n",
       "      <td>additives_and_oxygenates</td>\n",
       "    </tr>\n",
       "    <tr>\n",
       "      <th>1</th>\n",
       "      <td>austria</td>\n",
       "      <td>additives and oxygenates - exports</td>\n",
       "      <td>1995</td>\n",
       "      <td>metric tons,  thousand</td>\n",
       "      <td>17.0</td>\n",
       "      <td>additives_and_oxygenates</td>\n",
       "    </tr>\n",
       "    <tr>\n",
       "      <th>2</th>\n",
       "      <td>belgium</td>\n",
       "      <td>additives and oxygenates - exports</td>\n",
       "      <td>2014</td>\n",
       "      <td>metric tons,  thousand</td>\n",
       "      <td>0.0</td>\n",
       "      <td>additives_and_oxygenates</td>\n",
       "    </tr>\n",
       "    <tr>\n",
       "      <th>3</th>\n",
       "      <td>belgium</td>\n",
       "      <td>additives and oxygenates - exports</td>\n",
       "      <td>2013</td>\n",
       "      <td>metric tons,  thousand</td>\n",
       "      <td>0.0</td>\n",
       "      <td>additives_and_oxygenates</td>\n",
       "    </tr>\n",
       "    <tr>\n",
       "      <th>4</th>\n",
       "      <td>belgium</td>\n",
       "      <td>additives and oxygenates - exports</td>\n",
       "      <td>2012</td>\n",
       "      <td>metric tons,  thousand</td>\n",
       "      <td>35.0</td>\n",
       "      <td>additives_and_oxygenates</td>\n",
       "    </tr>\n",
       "  </tbody>\n",
       "</table>\n",
       "</div>"
      ],
      "text/plain": [
       "  country_or_area               commodity_transaction  year  \\\n",
       "0         austria  additives and oxygenates - exports  1996   \n",
       "1         austria  additives and oxygenates - exports  1995   \n",
       "2         belgium  additives and oxygenates - exports  2014   \n",
       "3         belgium  additives and oxygenates - exports  2013   \n",
       "4         belgium  additives and oxygenates - exports  2012   \n",
       "\n",
       "                     unit  quantity                  category  \n",
       "0  metric tons,  thousand       5.0  additives_and_oxygenates  \n",
       "1  metric tons,  thousand      17.0  additives_and_oxygenates  \n",
       "2  metric tons,  thousand       0.0  additives_and_oxygenates  \n",
       "3  metric tons,  thousand       0.0  additives_and_oxygenates  \n",
       "4  metric tons,  thousand      35.0  additives_and_oxygenates  "
      ]
     },
     "execution_count": 12,
     "metadata": {},
     "output_type": "execute_result"
    }
   ],
   "source": [
    "# To avoid any problem on the country_or_area names in the upper and lower, we are going to convert all the names in this & other column to lower case\n",
    "df1['country_or_area'] = df1['country_or_area'].str.lower()\n",
    "df1['commodity_transaction'] = df1['commodity_transaction'].str.lower()\n",
    "df1['unit'] = df1['unit'].str.lower()\n",
    "df1['category'] = df1['category'].str.lower()\n",
    "df1.head()"
   ]
  },
  {
   "cell_type": "code",
   "execution_count": 13,
   "metadata": {
    "execution": {
     "iopub.execute_input": "2022-11-08T12:50:51.909130Z",
     "iopub.status.busy": "2022-11-08T12:50:51.908075Z",
     "iopub.status.idle": "2022-11-08T12:50:51.922126Z",
     "shell.execute_reply": "2022-11-08T12:50:51.922667Z"
    },
    "papermill": {
     "duration": 0.050538,
     "end_time": "2022-11-08T12:50:51.922823",
     "exception": false,
     "start_time": "2022-11-08T12:50:51.872285",
     "status": "completed"
    },
    "tags": []
   },
   "outputs": [
    {
     "data": {
      "text/html": [
       "<div>\n",
       "<style scoped>\n",
       "    .dataframe tbody tr th:only-of-type {\n",
       "        vertical-align: middle;\n",
       "    }\n",
       "\n",
       "    .dataframe tbody tr th {\n",
       "        vertical-align: top;\n",
       "    }\n",
       "\n",
       "    .dataframe thead th {\n",
       "        text-align: right;\n",
       "    }\n",
       "</style>\n",
       "<table border=\"1\" class=\"dataframe\">\n",
       "  <thead>\n",
       "    <tr style=\"text-align: right;\">\n",
       "      <th></th>\n",
       "      <th>country</th>\n",
       "      <th>commodity</th>\n",
       "      <th>year</th>\n",
       "      <th>unit</th>\n",
       "      <th>quantity</th>\n",
       "      <th>category</th>\n",
       "    </tr>\n",
       "  </thead>\n",
       "  <tbody>\n",
       "    <tr>\n",
       "      <th>0</th>\n",
       "      <td>austria</td>\n",
       "      <td>additives and oxygenates - exports</td>\n",
       "      <td>1996</td>\n",
       "      <td>metric tons,  thousand</td>\n",
       "      <td>5.0</td>\n",
       "      <td>additives_and_oxygenates</td>\n",
       "    </tr>\n",
       "    <tr>\n",
       "      <th>1</th>\n",
       "      <td>austria</td>\n",
       "      <td>additives and oxygenates - exports</td>\n",
       "      <td>1995</td>\n",
       "      <td>metric tons,  thousand</td>\n",
       "      <td>17.0</td>\n",
       "      <td>additives_and_oxygenates</td>\n",
       "    </tr>\n",
       "    <tr>\n",
       "      <th>2</th>\n",
       "      <td>belgium</td>\n",
       "      <td>additives and oxygenates - exports</td>\n",
       "      <td>2014</td>\n",
       "      <td>metric tons,  thousand</td>\n",
       "      <td>0.0</td>\n",
       "      <td>additives_and_oxygenates</td>\n",
       "    </tr>\n",
       "    <tr>\n",
       "      <th>3</th>\n",
       "      <td>belgium</td>\n",
       "      <td>additives and oxygenates - exports</td>\n",
       "      <td>2013</td>\n",
       "      <td>metric tons,  thousand</td>\n",
       "      <td>0.0</td>\n",
       "      <td>additives_and_oxygenates</td>\n",
       "    </tr>\n",
       "    <tr>\n",
       "      <th>4</th>\n",
       "      <td>belgium</td>\n",
       "      <td>additives and oxygenates - exports</td>\n",
       "      <td>2012</td>\n",
       "      <td>metric tons,  thousand</td>\n",
       "      <td>35.0</td>\n",
       "      <td>additives_and_oxygenates</td>\n",
       "    </tr>\n",
       "  </tbody>\n",
       "</table>\n",
       "</div>"
      ],
      "text/plain": [
       "   country                           commodity  year                    unit  \\\n",
       "0  austria  additives and oxygenates - exports  1996  metric tons,  thousand   \n",
       "1  austria  additives and oxygenates - exports  1995  metric tons,  thousand   \n",
       "2  belgium  additives and oxygenates - exports  2014  metric tons,  thousand   \n",
       "3  belgium  additives and oxygenates - exports  2013  metric tons,  thousand   \n",
       "4  belgium  additives and oxygenates - exports  2012  metric tons,  thousand   \n",
       "\n",
       "   quantity                  category  \n",
       "0       5.0  additives_and_oxygenates  \n",
       "1      17.0  additives_and_oxygenates  \n",
       "2       0.0  additives_and_oxygenates  \n",
       "3       0.0  additives_and_oxygenates  \n",
       "4      35.0  additives_and_oxygenates  "
      ]
     },
     "execution_count": 13,
     "metadata": {},
     "output_type": "execute_result"
    }
   ],
   "source": [
    "# Simplifying the column names by renaming it\n",
    "df1.columns = ['country', 'commodity', 'year', 'unit', 'quantity', 'category']\n",
    "df1.head()"
   ]
  },
  {
   "cell_type": "code",
   "execution_count": 14,
   "metadata": {
    "execution": {
     "iopub.execute_input": "2022-11-08T12:50:51.992969Z",
     "iopub.status.busy": "2022-11-08T12:50:51.991970Z",
     "iopub.status.idle": "2022-11-08T12:50:52.006182Z",
     "shell.execute_reply": "2022-11-08T12:50:52.005520Z"
    },
    "papermill": {
     "duration": 0.050447,
     "end_time": "2022-11-08T12:50:52.006329",
     "exception": false,
     "start_time": "2022-11-08T12:50:51.955882",
     "status": "completed"
    },
    "tags": []
   },
   "outputs": [
    {
     "data": {
      "text/plain": [
       "array([1996, 1995, 2014, 2013, 2012, 2011, 2010, 2009, 1998, 2008, 2007,\n",
       "       2006, 2005, 2004, 2003, 2002, 2001, 2000, 1999, 1997, 1994, 1993,\n",
       "       1992, 1991, 1990])"
      ]
     },
     "execution_count": 14,
     "metadata": {},
     "output_type": "execute_result"
    }
   ],
   "source": [
    "# finding the unique years for the data (this confirms that data is from 1990 to 2014)\n",
    "df1['year'].unique()"
   ]
  },
  {
   "cell_type": "code",
   "execution_count": 15,
   "metadata": {
    "execution": {
     "iopub.execute_input": "2022-11-08T12:50:52.079549Z",
     "iopub.status.busy": "2022-11-08T12:50:52.078867Z",
     "iopub.status.idle": "2022-11-08T12:50:52.183505Z",
     "shell.execute_reply": "2022-11-08T12:50:52.182906Z"
    },
    "papermill": {
     "duration": 0.142972,
     "end_time": "2022-11-08T12:50:52.183633",
     "exception": false,
     "start_time": "2022-11-08T12:50:52.040661",
     "status": "completed"
    },
    "tags": []
   },
   "outputs": [
    {
     "data": {
      "text/plain": [
       "array(['additives_and_oxygenates', 'animal_waste', 'anthracite',\n",
       "       'aviation_gasoline', 'bagasse', 'biodiesel', 'biogases',\n",
       "       'biogasoline', 'bitumen', 'black_liquor', 'blast_furnace_gas',\n",
       "       'brown_coal_briquettes', 'brown_coal', 'charcoal', 'coal_tar',\n",
       "       'coke_oven_coke', 'coking_coal', 'conventional_crude_oil',\n",
       "       'direct_use_of_geothermal_heat',\n",
       "       'direct_use_of_solar_thermal_heat',\n",
       "       'electricity_net_installed_capacity_of_electric_power_plants',\n",
       "       'ethane', 'falling_water', 'fuel_oil', 'fuelwood', 'gas_coke',\n",
       "       'gas_oil_diesel_oil', 'gasoline_type_jet_fuel', 'gasworks_gas',\n",
       "       'geothermal', 'hard_coal', 'heat', 'hydro', 'industrial_waste',\n",
       "       'kerosene_type_jet_fuel', 'lignite', 'liquified_petroleum_gas',\n",
       "       'lubricants', 'motor_gasoline', 'municipal_wastes', 'naphtha',\n",
       "       'natural_gas_including_lng', 'natural_gas_liquids',\n",
       "       'nuclear_electricity', 'of_which_biodiesel',\n",
       "       'of_which_biogasoline', 'oil_shale_oil_sands',\n",
       "       'other_bituminous_coal', 'other_coal_products',\n",
       "       'other_hydrocarbons', 'other_kerosene', 'other_liquid_biofuels',\n",
       "       'other_oil_products_n_e_c', 'other_recovered_gases',\n",
       "       'other_vegetal_material_and_residues', 'paraffin_waxes',\n",
       "       'patent_fuel', 'peat', 'peat_products', 'petroleum_coke',\n",
       "       'refinery_feedstocks', 'refinery_gas', 'solar_electricity',\n",
       "       'sub_bituminous_coal', 'thermal_electricity',\n",
       "       'tide_wave_and_ocean_electricity', 'total_electricity',\n",
       "       'total_refinery_output', 'uranium',\n",
       "       'white_spirit_and_special_boiling_point_industrial_spirits',\n",
       "       'wind_electricity'], dtype=object)"
      ]
     },
     "execution_count": 15,
     "metadata": {},
     "output_type": "execute_result"
    }
   ],
   "source": [
    "# exploring more about the category\n",
    "df1['category'].unique()"
   ]
  },
  {
   "cell_type": "code",
   "execution_count": 16,
   "metadata": {
    "execution": {
     "iopub.execute_input": "2022-11-08T12:50:52.330812Z",
     "iopub.status.busy": "2022-11-08T12:50:52.329834Z",
     "iopub.status.idle": "2022-11-08T12:50:52.420548Z",
     "shell.execute_reply": "2022-11-08T12:50:52.419926Z"
    },
    "papermill": {
     "duration": 0.202827,
     "end_time": "2022-11-08T12:50:52.420680",
     "exception": false,
     "start_time": "2022-11-08T12:50:52.217853",
     "status": "completed"
    },
    "tags": []
   },
   "outputs": [
    {
     "data": {
      "text/plain": [
       "array(['additives and oxygenates - exports',\n",
       "       'additives and oxygenates - imports',\n",
       "       'additives and oxygenates - production', ...,\n",
       "       'white spirit and special boiling point industrial spirits - transformation',\n",
       "       'white spirit and special boiling point industrial spirits - transformation in petrochemical plants',\n",
       "       'electricity - total wind production'], dtype=object)"
      ]
     },
     "execution_count": 16,
     "metadata": {},
     "output_type": "execute_result"
    }
   ],
   "source": [
    "# exploring more about the commodity\n",
    "df1['commodity'].unique()"
   ]
  },
  {
   "cell_type": "code",
   "execution_count": 17,
   "metadata": {
    "execution": {
     "iopub.execute_input": "2022-11-08T12:50:52.495501Z",
     "iopub.status.busy": "2022-11-08T12:50:52.494494Z",
     "iopub.status.idle": "2022-11-08T12:50:52.497716Z",
     "shell.execute_reply": "2022-11-08T12:50:52.497049Z"
    },
    "papermill": {
     "duration": 0.043286,
     "end_time": "2022-11-08T12:50:52.497840",
     "exception": false,
     "start_time": "2022-11-08T12:50:52.454554",
     "status": "completed"
    },
    "tags": []
   },
   "outputs": [],
   "source": [
    "# Since we are going to focus on the G7 countries, so we are going to create a function to select a country to achieve this goal.\n",
    "def select_country(countryname):\n",
    "    country_data = df1[df1.country.isin(countryname)].sort_values('year').reset_index()\n",
    "    country_data.drop('index', axis=1, inplace=True)\n",
    "    return country_data"
   ]
  },
  {
   "cell_type": "markdown",
   "metadata": {
    "papermill": {
     "duration": 0.033502,
     "end_time": "2022-11-08T12:50:52.565531",
     "exception": false,
     "start_time": "2022-11-08T12:50:52.532029",
     "status": "completed"
    },
    "tags": []
   },
   "source": [
    "# **G7 Countries 2020**\n",
    "\n",
    "G7 is a term that is used to describe the Group of Seven. This is a group of seven countries that have the largest and most advanced economies in the world. These are the most industrialized nations in the world.\n",
    "\n",
    "When breaking down the numbers, the G7 countries represent over 46% of the gross domestic product globally based on nominal values. These countries represent over 32% of the GDP based on purchasing power parity. The countries in this group have more than 62% of the global net wealth – or a total of $280 trillion. \n",
    "\n",
    "The nations that are part of G7 include United States, Canada, Germany, France, Italy, Japan and United Kingdom.\n",
    "\n",
    "Source for Reference: https://worldpopulationreview.com/country-rankings/g7-countries\n"
   ]
  },
  {
   "cell_type": "code",
   "execution_count": 18,
   "metadata": {
    "execution": {
     "iopub.execute_input": "2022-11-08T12:50:52.636385Z",
     "iopub.status.busy": "2022-11-08T12:50:52.635741Z",
     "iopub.status.idle": "2022-11-08T12:50:52.919682Z",
     "shell.execute_reply": "2022-11-08T12:50:52.920183Z"
    },
    "papermill": {
     "duration": 0.321058,
     "end_time": "2022-11-08T12:50:52.920376",
     "exception": false,
     "start_time": "2022-11-08T12:50:52.599318",
     "status": "completed"
    },
    "tags": []
   },
   "outputs": [],
   "source": [
    "# Generating data for each country\n",
    "\n",
    "us_data = select_country(['united states'])\n",
    "canada_data = select_country(['canada'])\n",
    "germany_data = select_country(['germany'])\n",
    "france_data = select_country(['france'])\n",
    "italy_data = select_country(['italy'])\n",
    "japan_data = select_country(['japan'])\n",
    "uk_data = select_country(['united kingdom'])\n"
   ]
  },
  {
   "cell_type": "markdown",
   "metadata": {
    "papermill": {
     "duration": 0.033999,
     "end_time": "2022-11-08T12:50:52.988711",
     "exception": false,
     "start_time": "2022-11-08T12:50:52.954712",
     "status": "completed"
    },
    "tags": []
   },
   "source": [
    "**Category Function to filter specific category for each country or G7 countries together**"
   ]
  },
  {
   "cell_type": "code",
   "execution_count": 19,
   "metadata": {
    "execution": {
     "iopub.execute_input": "2022-11-08T12:50:53.060956Z",
     "iopub.status.busy": "2022-11-08T12:50:53.060316Z",
     "iopub.status.idle": "2022-11-08T12:50:53.065084Z",
     "shell.execute_reply": "2022-11-08T12:50:53.065648Z"
    },
    "papermill": {
     "duration": 0.04233,
     "end_time": "2022-11-08T12:50:53.065812",
     "exception": false,
     "start_time": "2022-11-08T12:50:53.023482",
     "status": "completed"
    },
    "tags": []
   },
   "outputs": [],
   "source": [
    "# now selecting the category by creating a function\n",
    "def select_category(country_data, categoryname):\n",
    "    category_country = country_data[country_data.category.isin(categoryname)].sort_values('year').reset_index()\n",
    "    category_country.drop('index', axis=1, inplace=True)\n",
    "    return category_country"
   ]
  },
  {
   "cell_type": "markdown",
   "metadata": {
    "papermill": {
     "duration": 0.035004,
     "end_time": "2022-11-08T12:50:53.136356",
     "exception": false,
     "start_time": "2022-11-08T12:50:53.101352",
     "status": "completed"
    },
    "tags": []
   },
   "source": [
    "## **3.0 Exploratory Data Analysis and Insights**"
   ]
  },
  {
   "cell_type": "markdown",
   "metadata": {
    "papermill": {
     "duration": 0.035127,
     "end_time": "2022-11-08T12:50:53.206072",
     "exception": false,
     "start_time": "2022-11-08T12:50:53.170945",
     "status": "completed"
    },
    "tags": []
   },
   "source": [
    "### **3.1 Analysis for Conventional Crude Oil Production for G7 Countries**"
   ]
  },
  {
   "cell_type": "code",
   "execution_count": 20,
   "metadata": {
    "execution": {
     "iopub.execute_input": "2022-11-08T12:50:53.287367Z",
     "iopub.status.busy": "2022-11-08T12:50:53.286283Z",
     "iopub.status.idle": "2022-11-08T12:50:53.328240Z",
     "shell.execute_reply": "2022-11-08T12:50:53.327549Z"
    },
    "papermill": {
     "duration": 0.087954,
     "end_time": "2022-11-08T12:50:53.328397",
     "exception": false,
     "start_time": "2022-11-08T12:50:53.240443",
     "status": "completed"
    },
    "tags": []
   },
   "outputs": [],
   "source": [
    "# Generating category for each country for the conventional crude oil\n",
    "crude_us = select_category(us_data, ['conventional_crude_oil'])\n",
    "crude_canada = select_category(canada_data, ['conventional_crude_oil'])\n",
    "crude_germany = select_category(germany_data, ['conventional_crude_oil'])\n",
    "crude_france = select_category(france_data, ['conventional_crude_oil'])\n",
    "crude_italy = select_category(italy_data, ['conventional_crude_oil'])\n",
    "crude_japan = select_category(japan_data, ['conventional_crude_oil'])\n",
    "crude_uk = select_category(uk_data, ['conventional_crude_oil'])\n"
   ]
  },
  {
   "cell_type": "code",
   "execution_count": 21,
   "metadata": {
    "execution": {
     "iopub.execute_input": "2022-11-08T12:50:53.403903Z",
     "iopub.status.busy": "2022-11-08T12:50:53.402845Z",
     "iopub.status.idle": "2022-11-08T12:50:53.406116Z",
     "shell.execute_reply": "2022-11-08T12:50:53.405491Z"
    },
    "papermill": {
     "duration": 0.043414,
     "end_time": "2022-11-08T12:50:53.406232",
     "exception": false,
     "start_time": "2022-11-08T12:50:53.362818",
     "status": "completed"
    },
    "tags": []
   },
   "outputs": [],
   "source": [
    "# Filtering further for the commodity type\n",
    "def select_commodity(category_country, commodityname):\n",
    "    commodity_country = category_country[category_country.commodity.isin(commodityname)].sort_values('year').reset_index()\n",
    "    commodity_country.drop('index', axis=1, inplace=True )\n",
    "    return commodity_country"
   ]
  },
  {
   "cell_type": "code",
   "execution_count": 22,
   "metadata": {
    "execution": {
     "iopub.execute_input": "2022-11-08T12:50:53.492195Z",
     "iopub.status.busy": "2022-11-08T12:50:53.491529Z",
     "iopub.status.idle": "2022-11-08T12:50:53.504832Z",
     "shell.execute_reply": "2022-11-08T12:50:53.504235Z"
    },
    "papermill": {
     "duration": 0.064391,
     "end_time": "2022-11-08T12:50:53.504954",
     "exception": false,
     "start_time": "2022-11-08T12:50:53.440563",
     "status": "completed"
    },
    "tags": []
   },
   "outputs": [],
   "source": [
    "# Filtering data for the conventional crude oil production for the G7 countries\n",
    "\n",
    "crudeprod_us = select_commodity(crude_us,['conventional crude oil - production'])\n",
    "crudeprod_canada = select_commodity(crude_canada,['conventional crude oil - production'])\n",
    "crudeprod_germany = select_commodity(crude_germany,['conventional crude oil - production'])\n",
    "crudeprod_france = select_commodity(crude_france,['conventional crude oil - production'])\n",
    "crudeprod_italy = select_commodity(crude_italy,['conventional crude oil - production'])\n",
    "crudeprod_japan = select_commodity(crude_japan,['conventional crude oil - production'])\n",
    "crudeprod_uk = select_commodity(crude_uk,['conventional crude oil - production'])\n"
   ]
  },
  {
   "cell_type": "code",
   "execution_count": 23,
   "metadata": {
    "execution": {
     "iopub.execute_input": "2022-11-08T12:50:53.594711Z",
     "iopub.status.busy": "2022-11-08T12:50:53.590210Z",
     "iopub.status.idle": "2022-11-08T12:50:53.830711Z",
     "shell.execute_reply": "2022-11-08T12:50:53.831235Z"
    },
    "papermill": {
     "duration": 0.291726,
     "end_time": "2022-11-08T12:50:53.831412",
     "exception": false,
     "start_time": "2022-11-08T12:50:53.539686",
     "status": "completed"
    },
    "tags": []
   },
   "outputs": [
    {
     "data": {
      "image/png": "[encoded data removed]",
      "text/plain": [
       "<Figure size 1080x720 with 1 Axes>"
      ]
     },
     "metadata": {
      "needs_background": "light"
     },
     "output_type": "display_data"
    }
   ],
   "source": [
    "# plotting line graph for each G7 country for the Conventional Crude Production\n",
    "\n",
    "plt.figure(figsize=(15, 10))\n",
    "x1 = crudeprod_us.year\n",
    "y1 = crudeprod_us.quantity\n",
    "plt.plot(x1, y1, label='United States')\n",
    "x2 = crudeprod_canada.year\n",
    "y2 = crudeprod_canada.quantity\n",
    "plt.plot(x2, y2, label='Canada')\n",
    "x3 = crudeprod_germany.year\n",
    "y3 = crudeprod_germany.quantity\n",
    "plt.plot(x3, y3, label='Germany')\n",
    "x4 = crudeprod_france.year\n",
    "y4 = crudeprod_france.quantity\n",
    "plt.plot(x4, y4, label='France')\n",
    "x5 = crudeprod_italy.year\n",
    "y5 = crudeprod_italy.quantity\n",
    "plt.plot(x5, y5, label='Italy')\n",
    "x6 = crudeprod_japan.year\n",
    "y6 = crudeprod_japan.quantity\n",
    "plt.plot(x6, y6, label='Japan')\n",
    "x7 = crudeprod_uk.year\n",
    "y7 = crudeprod_uk.quantity\n",
    "plt.plot(x7, y7, label='United Kingdom')\n",
    "plt.xticks(fontsize=12)\n",
    "plt.yticks(fontsize=12)\n",
    "plt.xlabel(\"Year\")\n",
    "plt.ylabel(\"Conventional Crude Oil Production (metric tons, thousand)\")\n",
    "plt.title(\"Conventional Crude Oil Production for the G7 Countries\")\n",
    "plt.legend(loc='best')\n",
    "plt.show()"
   ]
  },
  {
   "cell_type": "markdown",
   "metadata": {
    "papermill": {
     "duration": 0.036352,
     "end_time": "2022-11-08T12:50:53.904484",
     "exception": false,
     "start_time": "2022-11-08T12:50:53.868132",
     "status": "completed"
    },
    "tags": []
   },
   "source": [
    "There are 3 main countries with the conventional crude oil production among the G7 countries i.e. United States, Canada and United Kingdom. While production is going up in the US and Canada, it is coming down in the UK."
   ]
  },
  {
   "cell_type": "markdown",
   "metadata": {
    "papermill": {
     "duration": 0.0361,
     "end_time": "2022-11-08T12:50:53.976860",
     "exception": false,
     "start_time": "2022-11-08T12:50:53.940760",
     "status": "completed"
    },
    "tags": []
   },
   "source": [
    "### **3.2 Analysis for Conventional Crude Oil Imports for G7 Countries**"
   ]
  },
  {
   "cell_type": "code",
   "execution_count": 24,
   "metadata": {
    "execution": {
     "iopub.execute_input": "2022-11-08T12:50:54.053631Z",
     "iopub.status.busy": "2022-11-08T12:50:54.052651Z",
     "iopub.status.idle": "2022-11-08T12:50:54.077316Z",
     "shell.execute_reply": "2022-11-08T12:50:54.077915Z"
    },
    "papermill": {
     "duration": 0.064753,
     "end_time": "2022-11-08T12:50:54.078086",
     "exception": false,
     "start_time": "2022-11-08T12:50:54.013333",
     "status": "completed"
    },
    "tags": []
   },
   "outputs": [],
   "source": [
    "# Filtering data for the conventional crude oil Imports for the G7 countries\n",
    "\n",
    "crudeimp_us = select_commodity(crude_us,['conventional crude oil - imports'])\n",
    "crudeimp_canada = select_commodity(crude_canada,['conventional crude oil - imports'])\n",
    "crudeimp_germany = select_commodity(crude_germany,['conventional crude oil - imports'])\n",
    "crudeimp_france = select_commodity(crude_france,['conventional crude oil - imports'])\n",
    "crudeimp_italy = select_commodity(crude_italy,['conventional crude oil - imports'])\n",
    "crudeimp_japan = select_commodity(crude_japan,['conventional crude oil - imports'])\n",
    "crudeimp_uk = select_commodity(crude_uk,['conventional crude oil - imports'])\n"
   ]
  },
  {
   "cell_type": "code",
   "execution_count": 25,
   "metadata": {
    "execution": {
     "iopub.execute_input": "2022-11-08T12:50:54.156363Z",
     "iopub.status.busy": "2022-11-08T12:50:54.155395Z",
     "iopub.status.idle": "2022-11-08T12:50:54.409335Z",
     "shell.execute_reply": "2022-11-08T12:50:54.408287Z"
    },
    "papermill": {
     "duration": 0.294067,
     "end_time": "2022-11-08T12:50:54.409551",
     "exception": false,
     "start_time": "2022-11-08T12:50:54.115484",
     "status": "completed"
    },
    "tags": []
   },
   "outputs": [
    {
     "data": {
      "image/png": "[encoded data removed]",
      "text/plain": [
       "<Figure size 1080x720 with 1 Axes>"
      ]
     },
     "metadata": {
      "needs_background": "light"
     },
     "output_type": "display_data"
    }
   ],
   "source": [
    "# plotting line graph for each G7 country for the Conventional Crude Imports\n",
    "\n",
    "plt.figure(figsize=(15, 10))\n",
    "x1 = crudeimp_us.year\n",
    "y1 = crudeimp_us.quantity\n",
    "plt.plot(x1, y1, label='United States')\n",
    "x2 = crudeimp_canada.year\n",
    "y2 = crudeimp_canada.quantity\n",
    "plt.plot(x2, y2, label='Canada')\n",
    "x3 = crudeimp_germany.year\n",
    "y3 = crudeimp_germany.quantity\n",
    "plt.plot(x3, y3, label='Germany')\n",
    "x4 = crudeimp_france.year\n",
    "y4 = crudeimp_france.quantity\n",
    "plt.plot(x4, y4, label='France')\n",
    "x5 = crudeimp_italy.year\n",
    "y5 = crudeimp_italy.quantity\n",
    "plt.plot(x5, y5, label='Italy')\n",
    "x6 = crudeimp_japan.year\n",
    "y6 = crudeimp_japan.quantity\n",
    "plt.plot(x6, y6, label='Japan')\n",
    "x7 = crudeimp_uk.year\n",
    "y7 = crudeimp_uk.quantity\n",
    "plt.plot(x7, y7, label='United Kingdom')\n",
    "plt.xticks(fontsize=12)\n",
    "plt.yticks(fontsize=12)\n",
    "plt.xlabel(\"Year\")\n",
    "plt.ylabel(\"Conventional Crude Oil Imports (metric tons, thousand)\")\n",
    "plt.title(\"Conventional Crude Oil Imports for the G7 Countries\")\n",
    "plt.legend(loc='best')\n",
    "plt.show()"
   ]
  },
  {
   "cell_type": "markdown",
   "metadata": {
    "papermill": {
     "duration": 0.038951,
     "end_time": "2022-11-08T12:50:54.489479",
     "exception": false,
     "start_time": "2022-11-08T12:50:54.450528",
     "status": "completed"
    },
    "tags": []
   },
   "source": [
    "There are some interest facts about the Crude Oil imports for various G7 countries such as following:\n",
    "\n",
    "* Since the demand for the crude oil is high for the US due to so many refineries and huge domestic consumption, import curve shows increase while production is decresing and imports decreasing while production is increasing.\n",
    "* Since Canada produces enough for its domestic market, it shows Canadian imports the lowest and consistent which are done by the provinces which are far away from the crude refining provinces due to country's huge size.\n",
    "* Most of the European countries depend on the imports."
   ]
  },
  {
   "cell_type": "markdown",
   "metadata": {
    "papermill": {
     "duration": 0.038768,
     "end_time": "2022-11-08T12:50:54.570679",
     "exception": false,
     "start_time": "2022-11-08T12:50:54.531911",
     "status": "completed"
    },
    "tags": []
   },
   "source": [
    "### **3.3 Analysis for Solar Electricity for the G7 Countries**"
   ]
  },
  {
   "cell_type": "code",
   "execution_count": 26,
   "metadata": {
    "execution": {
     "iopub.execute_input": "2022-11-08T12:50:54.651595Z",
     "iopub.status.busy": "2022-11-08T12:50:54.650944Z",
     "iopub.status.idle": "2022-11-08T12:50:54.684784Z",
     "shell.execute_reply": "2022-11-08T12:50:54.685369Z"
    },
    "papermill": {
     "duration": 0.076182,
     "end_time": "2022-11-08T12:50:54.685524",
     "exception": false,
     "start_time": "2022-11-08T12:50:54.609342",
     "status": "completed"
    },
    "tags": []
   },
   "outputs": [],
   "source": [
    "# Generating category for each country for the Solar Electricity\n",
    "\n",
    "solar_us = select_category(us_data, ['solar_electricity'])\n",
    "solar_canada = select_category(canada_data, ['solar_electricity'])\n",
    "solar_germany = select_category(germany_data, ['solar_electricity'])\n",
    "solar_france = select_category(france_data, ['solar_electricity'])\n",
    "solar_italy = select_category(italy_data, ['solar_electricity'])\n",
    "solar_japan = select_category(japan_data, ['solar_electricity'])\n",
    "solar_uk = select_category(uk_data, ['solar_electricity'])"
   ]
  },
  {
   "cell_type": "code",
   "execution_count": 27,
   "metadata": {
    "execution": {
     "iopub.execute_input": "2022-11-08T12:50:54.770714Z",
     "iopub.status.busy": "2022-11-08T12:50:54.769968Z",
     "iopub.status.idle": "2022-11-08T12:50:54.796655Z",
     "shell.execute_reply": "2022-11-08T12:50:54.797196Z"
    },
    "papermill": {
     "duration": 0.072105,
     "end_time": "2022-11-08T12:50:54.797376",
     "exception": false,
     "start_time": "2022-11-08T12:50:54.725271",
     "status": "completed"
    },
    "tags": []
   },
   "outputs": [],
   "source": [
    "# Filtering data for the Solar Electricity Production for the G7 countries\n",
    "\n",
    "solarcap_us = select_commodity(solar_us,['electricity - total solar production'])\n",
    "solarcap_canada = select_commodity(solar_canada,['electricity - total solar production'])\n",
    "solarcap_germany = select_commodity(solar_germany,['electricity - total solar production'])\n",
    "solarcap_france = select_commodity(solar_france,['electricity - total solar production'])\n",
    "solarcap_italy = select_commodity(solar_italy,['electricity - total solar production'])\n",
    "solarcap_japan = select_commodity(solar_japan,['electricity - total solar production'])\n",
    "solarcap_uk = select_commodity(solar_uk,['electricity - total solar production'])\n"
   ]
  },
  {
   "cell_type": "code",
   "execution_count": 28,
   "metadata": {
    "execution": {
     "iopub.execute_input": "2022-11-08T12:50:54.885176Z",
     "iopub.status.busy": "2022-11-08T12:50:54.884452Z",
     "iopub.status.idle": "2022-11-08T12:50:55.136577Z",
     "shell.execute_reply": "2022-11-08T12:50:55.137106Z"
    },
    "papermill": {
     "duration": 0.30016,
     "end_time": "2022-11-08T12:50:55.137251",
     "exception": false,
     "start_time": "2022-11-08T12:50:54.837091",
     "status": "completed"
    },
    "tags": []
   },
   "outputs": [
    {
     "data": {
      "image/png": "[encoded data removed]",
      "text/plain": [
       "<Figure size 1080x720 with 1 Axes>"
      ]
     },
     "metadata": {
      "needs_background": "light"
     },
     "output_type": "display_data"
    }
   ],
   "source": [
    "# plotting line graph for each G7 country for the Installed Public Solar Electricity Capacity\n",
    "\n",
    "plt.figure(figsize=(15, 10))\n",
    "x1 = solarcap_us.year\n",
    "y1 = solarcap_us.quantity\n",
    "plt.plot(x1, y1, label='United States')\n",
    "x2 = solarcap_canada.year\n",
    "y2 = solarcap_canada.quantity\n",
    "plt.plot(x2, y2, label='Canada')\n",
    "x3 = solarcap_germany.year\n",
    "y3 = solarcap_germany.quantity\n",
    "plt.plot(x3, y3, label='Germany')\n",
    "x4 = solarcap_france.year\n",
    "y4 = solarcap_france.quantity\n",
    "plt.plot(x4, y4, label='France')\n",
    "x5 = solarcap_italy.year\n",
    "y5 = solarcap_italy.quantity\n",
    "plt.plot(x5, y5, label='Italy')\n",
    "x6 = solarcap_japan.year\n",
    "y6 = solarcap_japan.quantity\n",
    "plt.plot(x6, y6, label='Japan')\n",
    "x7 = solarcap_uk.year\n",
    "y7 = solarcap_uk.quantity\n",
    "plt.plot(x7, y7, label='United Kingdom')\n",
    "plt.xticks(fontsize=12)\n",
    "plt.yticks(fontsize=12)\n",
    "plt.xlabel(\"Year\")\n",
    "plt.ylabel(\"Public Installed Solar Electricity Capacity (kilowatt-hours, million)\")\n",
    "plt.title(\"Public Solar Electricity Installed Capacity for the G7 Countries\")\n",
    "plt.legend(loc='best')\n",
    "plt.show()"
   ]
  },
  {
   "cell_type": "markdown",
   "metadata": {
    "papermill": {
     "duration": 0.040906,
     "end_time": "2022-11-08T12:50:55.219512",
     "exception": false,
     "start_time": "2022-11-08T12:50:55.178606",
     "status": "completed"
    },
    "tags": []
   },
   "source": [
    "Germany is a leader in the solar electricity production with the US, Japan and Italy following it."
   ]
  },
  {
   "cell_type": "markdown",
   "metadata": {
    "papermill": {
     "duration": 0.04056,
     "end_time": "2022-11-08T12:50:55.301225",
     "exception": false,
     "start_time": "2022-11-08T12:50:55.260665",
     "status": "completed"
    },
    "tags": []
   },
   "source": [
    "### **3.4 Analysis for Wind Electricity for the G7 Countries**"
   ]
  },
  {
   "cell_type": "code",
   "execution_count": 29,
   "metadata": {
    "execution": {
     "iopub.execute_input": "2022-11-08T12:50:55.386438Z",
     "iopub.status.busy": "2022-11-08T12:50:55.385790Z",
     "iopub.status.idle": "2022-11-08T12:50:55.419844Z",
     "shell.execute_reply": "2022-11-08T12:50:55.419211Z"
    },
    "papermill": {
     "duration": 0.07781,
     "end_time": "2022-11-08T12:50:55.419964",
     "exception": false,
     "start_time": "2022-11-08T12:50:55.342154",
     "status": "completed"
    },
    "tags": []
   },
   "outputs": [],
   "source": [
    "# Generating category for each country for the Wind Electricity\n",
    "\n",
    "wind_us = select_category(us_data, ['wind_electricity'])\n",
    "wind_canada = select_category(canada_data, ['wind_electricity'])\n",
    "wind_germany = select_category(germany_data, ['wind_electricity'])\n",
    "wind_france = select_category(france_data, ['wind_electricity'])\n",
    "wind_italy = select_category(italy_data, ['wind_electricity'])\n",
    "wind_japan = select_category(japan_data, ['wind_electricity'])\n",
    "wind_uk = select_category(uk_data, ['wind_electricity'])"
   ]
  },
  {
   "cell_type": "code",
   "execution_count": 30,
   "metadata": {
    "execution": {
     "iopub.execute_input": "2022-11-08T12:50:55.518776Z",
     "iopub.status.busy": "2022-11-08T12:50:55.514621Z",
     "iopub.status.idle": "2022-11-08T12:50:55.618792Z",
     "shell.execute_reply": "2022-11-08T12:50:55.618205Z"
    },
    "papermill": {
     "duration": 0.15747,
     "end_time": "2022-11-08T12:50:55.618930",
     "exception": false,
     "start_time": "2022-11-08T12:50:55.461460",
     "status": "completed"
    },
    "tags": []
   },
   "outputs": [],
   "source": [
    "# Filtering data for the Wind Electricity Production for the G7 countries\n",
    "\n",
    "windcap_us = select_commodity(wind_us,['electricity - total wind production'])\n",
    "windcap_canada = select_commodity(wind_canada,['electricity - total wind production'])\n",
    "windcap_germany = select_commodity(wind_germany,['electricity - total wind production'])\n",
    "windcap_france = select_commodity(wind_france,['electricity - total wind production'])\n",
    "windcap_italy = select_commodity(wind_italy,['electricity - total wind production'])\n",
    "windcap_japan = select_commodity(wind_japan,['electricity - total wind production'])\n",
    "windcap_uk = select_commodity(wind_uk,['electricity - total wind production'])"
   ]
  },
  {
   "cell_type": "code",
   "execution_count": 31,
   "metadata": {
    "execution": {
     "iopub.execute_input": "2022-11-08T12:50:55.726715Z",
     "iopub.status.busy": "2022-11-08T12:50:55.725777Z",
     "iopub.status.idle": "2022-11-08T12:50:55.961692Z",
     "shell.execute_reply": "2022-11-08T12:50:55.960973Z"
    },
    "papermill": {
     "duration": 0.300521,
     "end_time": "2022-11-08T12:50:55.961812",
     "exception": false,
     "start_time": "2022-11-08T12:50:55.661291",
     "status": "completed"
    },
    "tags": []
   },
   "outputs": [
    {
     "data": {
      "image/png": "[encoded data removed]",
      "text/plain": [
       "<Figure size 1080x720 with 1 Axes>"
      ]
     },
     "metadata": {
      "needs_background": "light"
     },
     "output_type": "display_data"
    }
   ],
   "source": [
    "# plotting line graph for each G7 country for the Wind Electricity Production\n",
    "\n",
    "plt.figure(figsize=(15, 10))\n",
    "x1 = windcap_us.year\n",
    "y1 = windcap_us.quantity\n",
    "plt.plot(x1, y1, label='United States')\n",
    "x2 = windcap_canada.year\n",
    "y2 = windcap_canada.quantity\n",
    "plt.plot(x2, y2, label='Canada')\n",
    "x3 = windcap_germany.year\n",
    "y3 = windcap_germany.quantity\n",
    "plt.plot(x3, y3, label='Germany')\n",
    "x4 = windcap_france.year\n",
    "y4 = windcap_france.quantity\n",
    "plt.plot(x4, y4, label='France')\n",
    "x5 = windcap_italy.year\n",
    "y5 = windcap_italy.quantity\n",
    "plt.plot(x5, y5, label='Italy')\n",
    "x6 = windcap_japan.year\n",
    "y6 = windcap_japan.quantity\n",
    "plt.plot(x6, y6, label='Japan')\n",
    "x7 = windcap_uk.year\n",
    "y7 = windcap_uk.quantity\n",
    "plt.plot(x7, y7, label='United Kingdom')\n",
    "plt.xticks(fontsize=12)\n",
    "plt.yticks(fontsize=12)\n",
    "plt.xlabel(\"Year\")\n",
    "plt.ylabel(\"Wind Electricity Production (kilowatt-hours, million)\")\n",
    "plt.title(\"Wind Electricity Production for the G7 Countries\")\n",
    "plt.legend(loc='best')\n",
    "plt.show()"
   ]
  },
  {
   "cell_type": "markdown",
   "metadata": {
    "papermill": {
     "duration": 0.042955,
     "end_time": "2022-11-08T12:50:56.048389",
     "exception": false,
     "start_time": "2022-11-08T12:50:56.005434",
     "status": "completed"
    },
    "tags": []
   },
   "source": [
    "US is the leading wind electricity producer with Germany following it."
   ]
  },
  {
   "cell_type": "markdown",
   "metadata": {
    "papermill": {
     "duration": 0.043162,
     "end_time": "2022-11-08T12:50:56.134960",
     "exception": false,
     "start_time": "2022-11-08T12:50:56.091798",
     "status": "completed"
    },
    "tags": []
   },
   "source": [
    "## **4.0 Conclusion**"
   ]
  },
  {
   "cell_type": "markdown",
   "metadata": {
    "papermill": {
     "duration": 0.042774,
     "end_time": "2022-11-08T12:50:56.220998",
     "exception": false,
     "start_time": "2022-11-08T12:50:56.178224",
     "status": "completed"
    },
    "tags": []
   },
   "source": [
    "While the analysis has been done only for the following resources, this can be done for any commodity as available in the data set:\n",
    "\n",
    "* Crude Oil production\n",
    "* Crude Oil Imports\n",
    "* Solar Electricity production\n",
    "* Wind Electricity production\n",
    "\n",
    "As the focus was on the G7 countries i.e. United States, Canada, Germany, France, Italy, Japan and the United Kingdom, the analysic can be done for any country."
   ]
  }
 ],
 "metadata": {
  "kernelspec": {
   "display_name": "Python 3",
   "language": "python",
   "name": "python3"
  },
  "language_info": {
   "codemirror_mode": {
    "name": "ipython",
    "version": 3
   },
   "file_extension": ".py",
   "mimetype": "text/x-python",
   "name": "python",
   "nbconvert_exporter": "python",
   "pygments_lexer": "ipython3",
   "version": "3.7.6"
  },
  "papermill": {
   "duration": 20.550034,
   "end_time": "2022-11-08T12:50:56.371571",
   "environment_variables": {},
   "exception": null,
   "input_path": "__notebook__.ipynb",
   "output_path": "__notebook__.ipynb",
   "parameters": {},
   "start_time": "2022-11-08T12:50:35.821537",
   "version": "2.1.0"
  }
 },
 "nbformat": 4,
 "nbformat_minor": 4
}
